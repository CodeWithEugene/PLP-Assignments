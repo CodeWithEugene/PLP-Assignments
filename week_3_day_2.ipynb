{
 "cells": [
  {
   "cell_type": "code",
   "execution_count": null,
   "metadata": {},
   "outputs": [
    {
     "name": "stdout",
     "output_type": "stream",
     "text": [
      "The sum of all integers in the list is: 45\n"
     ]
    }
   ],
   "source": [
    "# 1. Write a program that accepts user input to create a list of integers. Then, compute the sum of all the integers in the list.\n",
    "\n",
    "# Prompt the user to enter a list of integers separated by spaces\n",
    "user_input = input(\"Enter a list of integers separated by spaces: \")\n",
    "\n",
    "# Split the input string into individual string elements\n",
    "input_list = user_input.split()\n",
    "\n",
    "# Convert each string element to an integer\n",
    "int_list = [int(num) for num in input_list]\n",
    "\n",
    "# Compute the sum of all integers in the list\n",
    "total_sum = sum(int_list)\n",
    "\n",
    "# Print the sum\n",
    "print(\"The sum of all integers in the list is:\", total_sum)"
   ]
  },
  {
   "cell_type": "code",
   "execution_count": 3,
   "metadata": {},
   "outputs": [
    {
     "name": "stdout",
     "output_type": "stream",
     "text": [
      "To Kill a Mockingbird\n",
      "1984\n",
      "The Great Gatsby\n",
      "The Catcher in the Rye\n",
      "Moby-Dick\n"
     ]
    }
   ],
   "source": [
    "# 2. Create a tuple containing the names of five of your favorite books. Then, use a for loop to print each book name on a separate line.\n",
    "\n",
    "# Create a tuple containing the names of five favorite books\n",
    "favorite_books = (\"To Kill a Mockingbird\", \"1984\", \"The Great Gatsby\", \"The Catcher in the Rye\", \"Moby-Dick\")\n",
    "\n",
    "# Use a for loop to print each book name on a separate line\n",
    "for book in favorite_books:\n",
    "    print(book)"
   ]
  },
  {
   "cell_type": "code",
   "execution_count": null,
   "metadata": {},
   "outputs": [
    {
     "name": "stdout",
     "output_type": "stream",
     "text": [
      "{'Name': 'Eugene', 'Age': '21', 'Favorite Color': 'Blue'}\n"
     ]
    }
   ],
   "source": [
    "# 3. Write a program that uses a dictionary to store information about a person, such as their name, age, and favorite color. Ask the user for input and store the information in the dictionary. Then, print the dictionary to the console.\n",
    "\n",
    "# Prompt the user to enter their name\n",
    "name = input(\"Enter your name: \")\n",
    "\n",
    "# Prompt the user to enter their age\n",
    "age = input(\"Enter your age: \")\n",
    "\n",
    "# Prompt the user to enter their favorite color\n",
    "favorite_color = input(\"Enter your favorite color: \")\n",
    "\n",
    "# Create a dictionary to store the information about the person\n",
    "person_info = {\n",
    "    'Name': name,\n",
    "    'Age': age,\n",
    "    'Favorite Color': favorite_color\n",
    "}\n",
    "\n",
    "# Print the dictionary to the console\n",
    "print(person_info)"
   ]
  },
  {
   "cell_type": "code",
   "execution_count": 6,
   "metadata": {},
   "outputs": [
    {
     "name": "stdout",
     "output_type": "stream",
     "text": [
      "The set of common elements is: {1, 2, 3, 4, 5}\n"
     ]
    }
   ],
   "source": [
    "# 4. Write a program that accepts user input to create two sets of integers. Then, create a new set that contains only the elements that are common to both sets.\n",
    "\n",
    "# Prompt the user to enter the first set of integers separated by spaces\n",
    "user_input1 = input(\"Enter the first set of integers separated by spaces: \")\n",
    "\n",
    "# Split the input string into individual string elements\n",
    "input_list1 = user_input1.split()\n",
    "\n",
    "# Convert each string element to an integer and create a set\n",
    "set1 = set(int(num) for num in input_list1)\n",
    "\n",
    "# Prompt the user to enter the second set of integers separated by spaces\n",
    "user_input2 = input(\"Enter the second set of integers separated by spaces: \")\n",
    "\n",
    "# Split the input string into individual string elements\n",
    "input_list2 = user_input2.split()\n",
    "\n",
    "# Convert each string element to an integer and create a set\n",
    "set2 = set(int(num) for num in input_list2)\n",
    "\n",
    "# Create a new set that contains only the elements that are common to both sets\n",
    "common_elements_set = set1.intersection(set2)\n",
    "\n",
    "# Print the new set\n",
    "print(\"The set of common elements is:\", common_elements_set)"
   ]
  },
  {
   "cell_type": "code",
   "execution_count": 7,
   "metadata": {},
   "outputs": [
    {
     "name": "stdout",
     "output_type": "stream",
     "text": [
      "Words with an odd number of characters: ['apple']\n"
     ]
    }
   ],
   "source": [
    "# 5. Create a program that stores a list of words. Then, use list comprehension to create a new list that contains only the words that have an odd number of characters.\n",
    "\n",
    "# Store a list of words\n",
    "words = [\"apple\", \"banana\", \"cherry\", \"date\", \"elderberry\"]\n",
    "\n",
    "# Use list comprehension to create a new list that contains only the words that have an odd number of characters\n",
    "odd_length_words = [word for word in words if len(word) % 2 != 0]\n",
    "\n",
    "# Print the new list\n",
    "print(\"Words with an odd number of characters:\", odd_length_words)"
   ]
  }
 ],
 "metadata": {
  "kernelspec": {
   "display_name": "base",
   "language": "python",
   "name": "python3"
  },
  "language_info": {
   "codemirror_mode": {
    "name": "ipython",
    "version": 3
   },
   "file_extension": ".py",
   "mimetype": "text/x-python",
   "name": "python",
   "nbconvert_exporter": "python",
   "pygments_lexer": "ipython3",
   "version": "3.12.7"
  }
 },
 "nbformat": 4,
 "nbformat_minor": 2
}
